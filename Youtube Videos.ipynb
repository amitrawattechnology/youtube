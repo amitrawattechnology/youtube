{
 "cells": [
  {
   "cell_type": "code",
   "execution_count": 88,
   "metadata": {},
   "outputs": [],
   "source": [
    "from bs4 import BeautifulSoup as bs\n",
    "import requests\n",
    "import urllib.request"
   ]
  },
  {
   "cell_type": "code",
   "execution_count": 79,
   "metadata": {},
   "outputs": [],
   "source": [
    " base = \"https://www.youtube.com/results?search_query=\"\n",
    "qstring = \"sonu+nigam\"\n"
   ]
  },
  {
   "cell_type": "code",
   "execution_count": 80,
   "metadata": {},
   "outputs": [],
   "source": [
    "r = requests.get(base+qstring)"
   ]
  },
  {
   "cell_type": "code",
   "execution_count": 81,
   "metadata": {},
   "outputs": [],
   "source": [
    "page = r.text\n",
    "soup=bs(page,'html.parser')"
   ]
  },
  {
   "cell_type": "code",
   "execution_count": 82,
   "metadata": {},
   "outputs": [],
   "source": [
    "vids = soup.findAll('a',attrs={'class':'yt-uix-tile-link'})"
   ]
  },
  {
   "cell_type": "code",
   "execution_count": 83,
   "metadata": {},
   "outputs": [],
   "source": [
    "videolist=[]\n",
    "for v in vids:\n",
    "    tmp = 'https://www.youtube.com' + v['href']\n",
    "    videolist.append(tmp)"
   ]
  },
  {
   "cell_type": "code",
   "execution_count": 61,
   "metadata": {},
   "outputs": [
    {
     "name": "stdout",
     "output_type": "stream",
     "text": [
      "\n",
      "The following command must be run outside of the IPython shell:\n",
      "\n",
      "    $ pip install pytube\n",
      "\n",
      "The Python package manager (pip) can only be used from outside of IPython.\n",
      "Please reissue the `pip` command in a separate terminal or command prompt.\n",
      "\n",
      "See the Python documentation for more information on how to install packages:\n",
      "\n",
      "    https://docs.python.org/3/installing/\n"
     ]
    }
   ],
   "source": [
    "pip install pytube"
   ]
  },
  {
   "cell_type": "code",
   "execution_count": 84,
   "metadata": {},
   "outputs": [],
   "source": [
    "from pytube import YouTube"
   ]
  },
  {
   "cell_type": "code",
   "execution_count": 85,
   "metadata": {},
   "outputs": [],
   "source": [
    "from bs4 import BeautifulSoup\n",
    "import requests\n",
    "import csv\n"
   ]
  },
  {
   "cell_type": "code",
   "execution_count": 86,
   "metadata": {},
   "outputs": [],
   "source": [
    "source = requests.get(\"https://www.youtube.com/results?search_query=sonu+nigam\").text\n",
    "soup = BeautifulSoup(source, 'lxml')"
   ]
  },
  {
   "cell_type": "code",
   "execution_count": 87,
   "metadata": {},
   "outputs": [
    {
     "data": {
      "text/plain": [
       "38"
      ]
     },
     "execution_count": 87,
     "metadata": {},
     "output_type": "execute_result"
    }
   ],
   "source": [
    "csv_file = open('YouTube.csv','w')\n",
    "csv_writer = csv.writer(csv_file)\n",
    "csv_writer.writerow(['Title', 'Description','Duration','Views','url'])"
   ]
  },
  {
   "cell_type": "code",
   "execution_count": 94,
   "metadata": {},
   "outputs": [],
   "source": [
    "all_links = soup.find_all(\"a\")\n",
    "#for link in all_links:\n",
    "    #print(link.get(\"href\"))"
   ]
  },
  {
   "cell_type": "code",
   "execution_count": 100,
   "metadata": {},
   "outputs": [
    {
     "name": "stdout",
     "output_type": "stream",
     "text": [
      "Best Of Sonu Nigam - Hit Romantic Album Songs - Jukebox\n",
      "Presenting Sonu Nigam romantic songs jukebox from his superhit pop albums exclusively on T-Series Popchartbusters.FOR LATEST ...\n",
      " - Duration: 41:44.\n",
      "Best Of Sonu Nigam - Hit Romantic Album Songs - Jukebox\n",
      "Mix - Best Of Sonu Nigam - Hit Romantic Album Songs - Jukebox\n",
      "Mix - Best Of Sonu Nigam - Hit Romantic Album Songs - Jukebox\n",
      "Sonu Nigam reveals how demonetization affected singers | #RSMMA | Radio Mirchi\n",
      "Sonu Nigam is at his wittiest best at the Royal Stag Mirchi Music Awards as he takes on demonetization and its effect on singers.\n",
      " - Duration: 5:50.\n",
      "Sonu Nigam reveals how demonetization affected singers | #RSMMA | Radio Mirchi\n",
      "Shiv Shankara | Sonu Nigam | Basant Chaudhary | Shreyas Puranik | महाशिवरात्रि Special 2019\n",
      "Times Music Spiritual presents Maha Shivratri Special video 'Shiv Shankara', sung by Sonu Nigam. Singer - Sonu Nigam Music ...\n",
      " - Duration: 5:42.\n",
      "Shiv Shankara | Sonu Nigam | Basant Chaudhary | Shreyas Puranik | महाशिवरात्रि Special 2019\n",
      "Sonu nigam one of the best performance 2019\n",
      "Sonu nigam one of the best performance 2019 the kapil sharma show...\n",
      " - Duration: 4:49.\n",
      "Sonu nigam one of the best performance 2019\n",
      "#SonuNigam TOP 10 SONGS of Sonu Nigam...All Time\n",
      "Top 10 songs of Indian singer Sonu Nigam. Original Video links:- 10. Soniyo - Raaz 2 https://youtu.be/owJQROW35Ow 9. Tumhe ...\n",
      " - Duration: 58:01.\n",
      "#SonuNigam TOP 10 SONGS of Sonu Nigam...All Time\n",
      "Sonu nigam mimicry of all singers\n",
      "Sonu nigam mimicry of all singers\n",
      "Sonu nigam latest live Performance 2018 | Best live concert ever\n",
      "Sonu nigam latest live Performance 2018 | Best live concert ever. Please don't forget to subscribe my channel for more videos.\n",
      " - Duration: 11:52.\n",
      "Sonu nigam latest live Performance 2018 | Best live concert ever\n",
      "Is Kadar Pyar Hai (Full video Song) by Sonu Nigam - \"Deewana\"\n",
      "Watch full video song \"Is kadar pyar hai tumse ae humsafar\" featuring dashing Milind Soman from the album \"Deewana\" sung by ...\n",
      " - Duration: 5:06.\n",
      "Is Kadar Pyar Hai (Full video Song) by Sonu Nigam - \"Deewana\"\n",
      "Sonu Nigam\n",
      "This channel is aimed at making the already beautiful world even better.\n",
      " - Channel\n",
      "Sonu Nigam\n",
      "Romantic Hit Songs of Sonu Nigam    सोनू निगम के सदाबहार हिन्दी गीत\n",
      "Romantic Hit Songs of Sonu Nigam सोनू निगम के सदाबहार हिन्दी गीत ...\n",
      " - Duration: 57:23.\n",
      "Romantic Hit Songs of Sonu Nigam    सोनू निगम के सदाबहार हिन्दी गीत\n",
      "Sonu Nigam Mimicry | Voice Modulation | X Factor | Singing in Ladies Voice\n",
      "Please Like and Subscribe and share..!\n",
      " - Duration: 6:49.\n",
      "Sonu Nigam Mimicry | Voice Modulation | X Factor | Singing in Ladies Voice\n",
      "Sonu Nigam Full Interview With Armaan Malik Dilli Tak Agenda Aaj Tak\n",
      "SONU NIGAM FULL INTERVIEW WITH ARMAAN MALIK DILLI TAK Agenda AAJ TAK Sonu Nigam live sings Aye Zindagi, Kabhi ...\n",
      " - Duration: 43:13.\n",
      "Sonu Nigam Full Interview With Armaan Malik Dilli Tak Agenda Aaj Tak\n",
      "Sonu Nigam Mimicry of Udit, Adnan and Mika Singh\n",
      "Sonu Nigam Mimicry of Udit, Adnan and Mika Singh\n",
      "Romantic Hit Songs of Sonu Nigam || Evergreen hits of Sonu Nigam\n",
      "spsongcreation BOLLYWOOD HINDI SONGS 2018!!! Link:---https://youtu.be/7roPX1jwPYY Kumar Sanu Romantic Song's ...\n",
      " - Duration: 56:12.\n",
      "Romantic Hit Songs of Sonu Nigam || Evergreen hits of Sonu Nigam\n",
      "Romantic Hit Songs of Sonu Nigam || सोनू निगम के सदाबहार हिन्दी गीत - Mega Hits of sonu nigam\n",
      "Romantic Hit Songs of Sonu Nigam || सोनू निगम के सदाबहार हिन्दी गीत - Mega Hits of sonu nigam Romantic Hit Songs ...\n",
      " - Duration: 57:25.\n",
      "Romantic Hit Songs of Sonu Nigam || सोनू निगम के सदाबहार हिन्दी गीत - Mega Hits of sonu nigam\n",
      "Alka Yagnik Bollywood  Romantic Songs Collection |||\n",
      "Samsung Galaxy M10 Unboxing https://youtu.be/Uqc6ezKIinI ...\n",
      " - Duration: 57:38.\n",
      "Alka Yagnik Bollywood  Romantic Songs Collection |||\n",
      "Sonu Nigam Mimicry at Global Indian Music Awards GiMA) 2010\n",
      "Sonu Nigam Mimicry at Global Indian Music Awards GiMA) 2010\n",
      "Teri Kasam Teri Raahon Mein Aakar Full Song ~ Sonu Nigam, Anuradha Paudwal | Chahat Album\n",
      "Song: Teri Kasam Teri Raahon Mein AakarAlbum: ChahatSinger: Sonu Nigam, Anuradha PaudwalMusic Director: Shyam Surinder ...\n",
      " - Duration: 6:05.\n",
      "Teri Kasam Teri Raahon Mein Aakar Full Song ~ Sonu Nigam, Anuradha Paudwal | Chahat Album\n",
      "#SonuNigam & #NehaKakkar First Time Together Performance At Washington DC 05 Apr.2019 Night\n",
      "Sonu Nigam & Neha Kakkar First Time Together - #KloseToMyLife Fri • Apr 05 • 8:00 PM Venue - Eagle Bank Arena Washington ...\n",
      " - Duration: 12:51.\n",
      "#SonuNigam & #NehaKakkar First Time Together Performance At Washington DC 05 Apr.2019 Night\n",
      "None\n",
      " - Duration: 12:51.\n",
      "None\n",
      "\n",
      "\n"
     ]
    }
   ],
   "source": [
    "for content in soup.find_all('div', class_= \"yt-lockup-content\"):\n",
    "    try:\n",
    "        title = content.h3.a.text\n",
    "        print(title)\n",
    "\n",
    "        description = content.find('div', class_=\"yt-lockup-description yt-ui-ellipsis yt-ui-ellipsis-2\").text\n",
    "        print(description)\n",
    "        \n",
    "        duration = content.find('span', class_=\"accessible-description\").text\n",
    "        print(duration)\n",
    "        \n",
    "        views = content.find('span', class_=\"style-scope ytd-video-meta-block\").text\n",
    "        print(views)\n",
    "        \n",
    "       \n",
    "        \n",
    "        \n",
    "      \n",
    "        \n",
    "        \n",
    "        \n",
    "\n",
    "        #<span class=\"accessible-description\" id=\"description-id-419366\">\n",
    "        \n",
    "        \n",
    "\n",
    "    except Exception as e:\n",
    "        description = None\n",
    "        \n",
    "        print(title)\n",
    "print(description)\n",
    "print(duration)\n",
    "print(views)\n",
    "\n",
    "print('\\n')\n",
    "\n",
    "    #print('\\n')\n",
    "    #csv_writer.writerow([title, description])\n",
    "\n",
    "csv_file.close()"
   ]
  },
  {
   "cell_type": "code",
   "execution_count": null,
   "metadata": {},
   "outputs": [],
   "source": []
  }
 ],
 "metadata": {
  "kernelspec": {
   "display_name": "Python 3",
   "language": "python",
   "name": "python3"
  },
  "language_info": {
   "codemirror_mode": {
    "name": "ipython",
    "version": 3
   },
   "file_extension": ".py",
   "mimetype": "text/x-python",
   "name": "python",
   "nbconvert_exporter": "python",
   "pygments_lexer": "ipython3",
   "version": "3.7.1"
  }
 },
 "nbformat": 4,
 "nbformat_minor": 2
}
